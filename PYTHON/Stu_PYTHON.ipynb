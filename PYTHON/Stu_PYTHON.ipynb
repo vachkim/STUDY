{
  "nbformat": 4,
  "nbformat_minor": 0,
  "metadata": {
    "colab": {
      "name": "Stu_PYTHON.ipynb",
      "provenance": [],
      "collapsed_sections": [],
      "toc_visible": true,
      "authorship_tag": "ABX9TyOvchCE6xKRQ0voA3C8GqEH",
      "include_colab_link": true
    },
    "kernelspec": {
      "name": "python3",
      "display_name": "Python 3"
    }
  },
  "cells": [
    {
      "cell_type": "markdown",
      "metadata": {
        "id": "view-in-github",
        "colab_type": "text"
      },
      "source": [
        "<a href=\"https://colab.research.google.com/github/vachkim/STUDY/blob/master/PYTHON/Stu_PYTHON.ipynb\" target=\"_parent\"><img src=\"https://colab.research.google.com/assets/colab-badge.svg\" alt=\"Open In Colab\"/></a>"
      ]
    },
    {
      "cell_type": "markdown",
      "metadata": {
        "id": "9wzbzMPsjyCu",
        "colab_type": "text"
      },
      "source": [
        "## A Byte of Python\n",
        "- 위 교재 코드를 바탕으로 파이썬 기초를 복습한 내용입니다(4장에서부터 참고하였습니다)\n",
        "- [공식](https://python.swaroopch.com)에서 온라인으로 책을 읽는 것이 가능합니다\n",
        "- 파이썬은 배우기 쉽고, 강력한 프로그래밍 언어라고 합니다 \n",
        "- 파이썬을 시작으로 데이터 분석가로서의 기틀을 다져보고 싶습니다"
      ]
    },
    {
      "cell_type": "markdown",
      "metadata": {
        "id": "7e2vzbM-knLb",
        "colab_type": "text"
      },
      "source": [
        "### 1-0. Chapter4_첫걸음\n",
        "- 파이썬에서 프로그램을 실행하는 방법은 아래 두 가지입니다\n",
        "  + 대화형 인터프리터 프롬프트를 활용\n",
        "  + 소스 파일을 활용"
      ]
    },
    {
      "cell_type": "markdown",
      "metadata": {
        "id": "O2xSHFrvk94K",
        "colab_type": "text"
      },
      "source": [
        "#### 1-1. 인터프리터 프롬프트\n",
        "- 파이썬 프롬프트에서 명령어를 입력하는 것을 의미합니다\n",
        "- 파이썬은 입력한 것에 대한 결과물을 바로 출력한다는 것을 기억해야 합니다\n",
        "``` python\n",
        "$ python\n",
        "Python 2.7.6 (default, Feb 23 2014, 16:08:15)\n",
        "[GCC 4.2.1 Compatible Apple LLVM 5.0 (clang-500.2.79)] on darwin\n",
        "Type \"help\", \"copyright\", \"credits\" or \"license\" for more information.\n",
        ">>> print \"hello world\" # 이렇게 >>> 뒤에 명령어를 입력하는 경우입니다\n",
        "```"
      ]
    },
    {
      "cell_type": "markdown",
      "metadata": {
        "id": "2PG4aYx1l6Ic",
        "colab_type": "text"
      },
      "source": [
        "- 매번 프롬프트를 실행할 수 없으므로 우리는 보통 편집기 프로그램을 활용합니다\n",
        "  + Ex. Pycharm, Vim, Emcas 등\n",
        "- 본 서에서는 Pycharm을 주 프로그램으로 다룹니다"
      ]
    },
    {
      "cell_type": "markdown",
      "metadata": {
        "id": "Ug9QSqHBmejA",
        "colab_type": "text"
      },
      "source": [
        "#### 1-2. 소스 파일 사용\n",
        "- 저장한 파이썬 프로그램을 활용하는 것을 의미합니다\n",
        "- 앞서 print('hello world')가 입력된 파이썬 파일을 hello.py라는 이름으로 저장합니다\n",
        "- 터미널 창에서 아래와 같이 입력하면 동일한 결과가 나옵니다\n",
        "``` python\n",
        "$ python hello.py\n",
        "```"
      ]
    },
    {
      "cell_type": "markdown",
      "metadata": {
        "id": "_N5DnKxgnMc_",
        "colab_type": "text"
      },
      "source": [
        "### 2-0. Chapter5_기초\n",
        "- 파이썬 프로그램에 입력할 수 있는 값들에 대해 알아보도록 합니다"
      ]
    },
    {
      "cell_type": "markdown",
      "metadata": {
        "id": "nPTOfHWk14sV",
        "colab_type": "text"
      },
      "source": [
        "#### 2-1. 주석\n",
        "- 주석은 코드에 대한 설명을 달 때 주로 사용합니다\n",
        "- '#' 뒤에 설명을 입력하면 사용이 가능합니다"
      ]
    },
    {
      "cell_type": "code",
      "metadata": {
        "id": "0_8PjNbeilAG",
        "colab_type": "code",
        "colab": {
          "base_uri": "https://localhost:8080/",
          "height": 35
        },
        "outputId": "e2224457-a9a9-421a-ca50-7d2e28e76b88"
      },
      "source": [
        "# hello world를 프린트해봅시다\n",
        "print('hello world')"
      ],
      "execution_count": null,
      "outputs": [
        {
          "output_type": "stream",
          "text": [
            "hello world\n"
          ],
          "name": "stdout"
        }
      ]
    },
    {
      "cell_type": "markdown",
      "metadata": {
        "id": "IQ0CwzIz2SVy",
        "colab_type": "text"
      },
      "source": [
        "#### 2-2. 숫자형\n",
        "- 숫자형에는 정수형(Integer)과 실수형(Float)이 존재합니다"
      ]
    },
    {
      "cell_type": "markdown",
      "metadata": {
        "id": "JUWUDLmg2zBT",
        "colab_type": "text"
      },
      "source": [
        "#### 2-3. 문자형\n",
        "- 문자형은 문자들의 집합을 의미합니다\n",
        "- 작은 따옴표나 큰 따옴표로 표시해 줄 수 있습니다\n",
        "- 따옴표를 앞뒤로 세개씩 써줄 경우 여러 줄은 문자열로 표시할 수 있습니다"
      ]
    },
    {
      "cell_type": "code",
      "metadata": {
        "id": "nEpgfOqa2bXQ",
        "colab_type": "code",
        "colab": {
          "base_uri": "https://localhost:8080/",
          "height": 35
        },
        "outputId": "362cc0e1-cc3d-491c-d907-281b8f810f80"
      },
      "source": [
        "'''\n",
        "This is a multi-line string.\n",
        "Second line\n",
        "Third line with triple quotations\n",
        "'''"
      ],
      "execution_count": null,
      "outputs": [
        {
          "output_type": "execute_result",
          "data": {
            "application/vnd.google.colaboratory.intrinsic+json": {
              "type": "string"
            },
            "text/plain": [
              "'\\nThis is a multi-line string.\\nSecond line\\nThird line with triple quotations\\n'"
            ]
          },
          "metadata": {
            "tags": []
          },
          "execution_count": 9
        }
      ]
    },
    {
      "cell_type": "markdown",
      "metadata": {
        "id": "99c07r0d3BxY",
        "colab_type": "text"
      },
      "source": [
        "#### 2-4. 문자형 포맷팅\n",
        "- 문자열을 생성할 때, 다른 정보를 문자열에 포함하고 싶을 경우 format을 사용합니다\n",
        "- {대괄호}를 통해 값을 입력받을 부분을 표시하고 format()에 값을 입력합니다\n",
        "- format은 들어온 순서대로 대괄호에 값을 부여합니다"
      ]
    },
    {
      "cell_type": "code",
      "metadata": {
        "id": "AVPsG8IO25q-",
        "colab_type": "code",
        "colab": {
          "base_uri": "https://localhost:8080/",
          "height": 35
        },
        "outputId": "1da8daa8-da28-4fe0-9123-53f337e6ef40"
      },
      "source": [
        "age = 6; name='coco'\n",
        "print('My dog\\'s name is {}, she is {} years old'.format(name,age))"
      ],
      "execution_count": null,
      "outputs": [
        {
          "output_type": "stream",
          "text": [
            "My dog's name is coco, she is 6 years old\n"
          ],
          "name": "stdout"
        }
      ]
    },
    {
      "cell_type": "markdown",
      "metadata": {
        "id": "qF5OW1-B327h",
        "colab_type": "text"
      },
      "source": [
        "#### 2-5. 이스케이프 문자\n",
        "- 문자열을 표시하는 중에 's 와 같은 것을 표기하는 방법을 알아봅니다\n",
        "- 문자열로 인식되기를 바라는 따옴표 앞에 \\를 입력해주면 해당하는 글자는 문자열로 인식됩니다\n",
        "- 혹은 따옴표의 종류를 바꾸는 방법도 있습니다\n",
        "- \\ 문자를 표기하고 싶을 때에는 \\\\을 입력하면 됩니다\n",
        "- 마찬가지로 줄바꿈을 표현하고 싶을 때에는 \\n을 입력해줍니다"
      ]
    },
    {
      "cell_type": "code",
      "metadata": {
        "id": "rDvl-OK04uWH",
        "colab_type": "code",
        "colab": {
          "base_uri": "https://localhost:8080/",
          "height": 89
        },
        "outputId": "49df7cd7-756a-4a5c-cba0-a8408a1e075b"
      },
      "source": [
        "print('That\\'s my dog') #That\\'s my dog으로 입력하면 왼쪽과 같이 출력됩니다\n",
        "print(\"That's my dog\") #큰 따옴표로 문자열을 구분하면 안에 들어가는 작은 따옴표는 문자로 인식됩니다\n",
        "print('Hello \\nMy World') #\\n을 통해 줄바꿈을 표시합니다"
      ],
      "execution_count": null,
      "outputs": [
        {
          "output_type": "stream",
          "text": [
            "That's my dog\n",
            "That's my dog\n",
            "Hello \n",
            "My World\n"
          ],
          "name": "stdout"
        }
      ]
    },
    {
      "cell_type": "markdown",
      "metadata": {
        "id": "J8ZDMtuf36on",
        "colab_type": "text"
      },
      "source": [
        "#### 2-6. 변수\n",
        "- 변수는 파이썬 내에서 정보를 담고 수정하는 공간입니다\n",
        "- 변수명 뒤에 =(equation)과 입력할 값을 넣어주면 됩니다"
      ]
    },
    {
      "cell_type": "code",
      "metadata": {
        "id": "JezPn5KJ5Sqd",
        "colab_type": "code",
        "colab": {
          "base_uri": "https://localhost:8080/",
          "height": 35
        },
        "outputId": "f4a38e93-5767-4c4e-b4df-c60198919049"
      },
      "source": [
        "a='hello world'\n",
        "print(a)"
      ],
      "execution_count": null,
      "outputs": [
        {
          "output_type": "stream",
          "text": [
            "hello world\n"
          ],
          "name": "stdout"
        }
      ]
    },
    {
      "cell_type": "markdown",
      "metadata": {
        "id": "qpYc2Ffg4NhN",
        "colab_type": "text"
      },
      "source": [
        "#### 2-7. 들여쓰기\n",
        "- 파이썬에서 들여쓰기는 중요한 역할을 합니다\n",
        "- 명령의 범위를 구분하는 데 사용되기 때문입니다\n",
        "- 특히 뒤에서 다룰 for loop나 if문에서는 공백이 필수적이라 할 수 있습니다"
      ]
    },
    {
      "cell_type": "code",
      "metadata": {
        "id": "Szpu-8eE3dwI",
        "colab_type": "code",
        "colab": {
          "base_uri": "https://localhost:8080/",
          "height": 35
        },
        "outputId": "ef63b0fd-b700-473c-8b62-2086e45a9421"
      },
      "source": [
        "a = 100\n",
        "if a == 100:\n",
        "  print('a is 100')"
      ],
      "execution_count": null,
      "outputs": [
        {
          "output_type": "stream",
          "text": [
            "a is 100\n"
          ],
          "name": "stdout"
        }
      ]
    }
  ]
}